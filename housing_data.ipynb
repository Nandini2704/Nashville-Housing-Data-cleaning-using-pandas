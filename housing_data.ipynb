{
 "cells": [
  {
   "cell_type": "markdown",
   "metadata": {},
   "source": [
    "**Nashville Housing Data**\n"
   ]
  },
  {
   "cell_type": "markdown",
   "metadata": {},
   "source": [
    "This dataset is primarily used for cleaning purpose there are 56477 rows  and 19 columns in it,\n",
    "the column attributes are\n",
    "\n",
    "UniqueID:house id \n",
    "\n",
    "ParcelID:I think postal id \n",
    "\n",
    "LandUse:property used for(example:single home,bunglow etc.,) \n",
    "\n",
    "PropertyAddress:Address of the property\n",
    "\n",
    "SaleDate:sold date\n",
    "\n",
    "SalePrice:Sold price \n",
    "\n",
    "LegalReference:Reference id after the property begin sold \n",
    "\n",
    "SoldAsVacant:Yes or no\n",
    "\n",
    "OwnerName:name of owner\n",
    "\n",
    "OwnerAddress:address of owner\n",
    "\n",
    "Acreage:an area of land, typically when used for agricultural purposes, but not necessarily measured in acres.(searched in google) \n",
    "\n",
    "TaxDistrict:Where the tax of that property to be paid to  \n",
    "\n",
    "LandValue:Value of land \n",
    "\n",
    "BuildingValue:building value\n",
    "\n",
    "TotalValue:sum of both \n",
    "\n",
    "YearBuilt:built on which year \n",
    "\n",
    "Bedrooms:number of rooms \n",
    "\n",
    "FullBath: probably with bath and shower\n",
    "\n",
    "HalfBath:a room in a private home that contains a toilet and washbasin but no bath or shower.(Searched in google)"
   ]
  },
  {
   "cell_type": "code",
   "execution_count": null,
   "metadata": {},
   "outputs": [],
   "source": [
    "import pandas as pd"
   ]
  },
  {
   "cell_type": "code",
   "execution_count": null,
   "metadata": {},
   "outputs": [],
   "source": [
    "housing_data=pd.read_csv(\"Nashville Housing Data for Data Cleaning.csv\")\n",
    "housing_data.head()#reads the first 5 elements in the dataframe"
   ]
  },
  {
   "cell_type": "code",
   "execution_count": null,
   "metadata": {},
   "outputs": [],
   "source": [
    "housing_data.shape#return thr shape that is number of rows and columns in the dataframe"
   ]
  },
  {
   "cell_type": "code",
   "execution_count": null,
   "metadata": {
    "slideshow": {
     "slide_type": "slide"
    }
   },
   "outputs": [],
   "source": [
    "housing_data.columns##RETURNS THE COLUMNS PRESENT IN THE CSV FILE"
   ]
  },
  {
   "cell_type": "markdown",
   "metadata": {},
   "source": [
    "Replacing 'y' as 'yes' and 'n' as 'no'"
   ]
  },
  {
   "cell_type": "code",
   "execution_count": null,
   "metadata": {},
   "outputs": [],
   "source": [
    "housing_data = housing_data.replace('y', 'YES')#replaces y with 'YES'\n",
    "housing_data = housing_data.replace('n', 'NO')#replaces n with 'NO'\n",
    "housing_data = housing_data.replace('N', 'NO')#replaces N with 'NO'\n",
    "housing_data = housing_data.replace('Y', 'YES')#replaces Y with 'YES'"
   ]
  },
  {
   "cell_type": "code",
   "execution_count": null,
   "metadata": {},
   "outputs": [],
   "source": [
    "housing_data.loc[housing_data[\"SoldAsVacant\"]==\"N\"]##returns empty as there is no 'N'in soldasvacant attribute"
   ]
  },
  {
   "cell_type": "markdown",
   "metadata": {},
   "source": [
    "removing blank cells"
   ]
  },
  {
   "cell_type": "code",
   "execution_count": null,
   "metadata": {},
   "outputs": [],
   "source": [
    "housing_data['PropertyAddress'].isnull().sum()##number of empty cells"
   ]
  },
  {
   "cell_type": "code",
   "execution_count": null,
   "metadata": {},
   "outputs": [],
   "source": [
    "housing_data= housing_data.dropna(subset=['PropertyAddress','OwnerAddress','OwnerName','YearBuilt','Bedrooms','FullBath','HalfBath'])##creates a subset of this cells and delete the empty rows in those cells"
   ]
  },
  {
   "cell_type": "code",
   "execution_count": null,
   "metadata": {},
   "outputs": [],
   "source": [
    "housing_data.isnull().sum()##checking whether all the blanks have been removed"
   ]
  },
  {
   "cell_type": "markdown",
   "metadata": {},
   "source": [
    "changing the date format to standard format we'll convert it to ISO 8601 format (YYYY-MM-DD) for international communication and data exchange"
   ]
  },
  {
   "cell_type": "code",
   "execution_count": null,
   "metadata": {},
   "outputs": [],
   "source": [
    "housing_data['SaleDate']=pd.to_datetime(housing_data['SaleDate'])## pd.to_datetime(df['date']) to convert the 'date' column to datetime format.\n",
    "\n",
    "housing_data['date_formattes']=housing_data['SaleDate'].dt.strftime('%Y/%m/%d')#%Y-%m-%d-year-month-day\n"
   ]
  },
  {
   "cell_type": "code",
   "execution_count": null,
   "metadata": {},
   "outputs": [],
   "source": [
    "housing_data['SaleDate']"
   ]
  },
  {
   "cell_type": "markdown",
   "metadata": {},
   "source": [
    "search for duplicate values"
   ]
  },
  {
   "cell_type": "markdown",
   "metadata": {},
   "source": [
    "we can use drop_duplicates() function to remove the duplicate values\n"
   ]
  },
  {
   "cell_type": "code",
   "execution_count": null,
   "metadata": {},
   "outputs": [],
   "source": [
    "housing_data=housing_data.drop_duplicates()##deletes duplicates"
   ]
  },
  {
   "cell_type": "code",
   "execution_count": null,
   "metadata": {},
   "outputs": [],
   "source": [
    "any_duplicates = housing_data.duplicated().any()##checking whether there are any duplicates\n",
    "any_duplicates#false indicates no duplicates "
   ]
  },
  {
   "cell_type": "markdown",
   "metadata": {},
   "source": [
    "property address has house address ,city and owner address has  state ,city,address on the same column we need to split those "
   ]
  },
  {
   "cell_type": "code",
   "execution_count": null,
   "metadata": {},
   "outputs": [],
   "source": [
    "housing_data[['Property_address','city']]=housing_data['PropertyAddress'].str.split(',', expand=True)\n",
    "#by specifying expand=True, the split is done column-wise.\n",
    "#we specify ',' means the split should happen at the first occurances of  the delimiter(,)"
   ]
  },
  {
   "cell_type": "code",
   "execution_count": null,
   "metadata": {},
   "outputs": [],
   "source": [
    "housing_data[['Property_address','city']]"
   ]
  },
  {
   "cell_type": "code",
   "execution_count": null,
   "metadata": {},
   "outputs": [],
   "source": [
    "\n",
    "housing_data[['Owner_address','city','state']]=housing_data['OwnerAddress'].str.split(',', expand=True)\n"
   ]
  },
  {
   "cell_type": "code",
   "execution_count": null,
   "metadata": {},
   "outputs": [],
   "source": [
    "housing_data[['Owner_address','city','state']]"
   ]
  },
  {
   "cell_type": "markdown",
   "metadata": {},
   "source": [
    "removing unused columns"
   ]
  },
  {
   "cell_type": "code",
   "execution_count": null,
   "metadata": {},
   "outputs": [],
   "source": [
    "##housing_data.drop(columns=['PropertyAddress','OwnerAddress','SaleDate','TaxDistrict'],inplace=True)"
   ]
  },
  {
   "cell_type": "code",
   "execution_count": null,
   "metadata": {},
   "outputs": [],
   "source": []
  }
 ],
 "metadata": {
  "kernelspec": {
   "display_name": "Python 3",
   "language": "python",
   "name": "python3"
  },
  "language_info": {
   "codemirror_mode": {
    "name": "ipython",
    "version": 3
   },
   "file_extension": ".py",
   "mimetype": "text/x-python",
   "name": "python",
   "nbconvert_exporter": "python",
   "pygments_lexer": "ipython3",
   "version": "3.10.5"
  }
 },
 "nbformat": 4,
 "nbformat_minor": 2
}
